{
 "cells": [
  {
   "cell_type": "markdown",
   "id": "43efc4bc",
   "metadata": {},
   "source": [
    "# transfer learning"
   ]
  },
  {
   "cell_type": "code",
   "execution_count": 20,
   "id": "d5476198",
   "metadata": {
    "ExecuteTime": {
     "end_time": "2022-08-07T14:23:38.048539Z",
     "start_time": "2022-08-07T14:23:38.028559Z"
    }
   },
   "outputs": [],
   "source": [
    "import numpy as np\n",
    "import tensorflow as tf\n",
    "from sklearn.preprocessing import LabelEncoder\n",
    "from tensorflow import keras\n",
    "from tensorflow.keras.callbacks import EarlyStopping \n",
    "import matplotlib.pyplot as plt\n",
    "from tensorflow.keras.applications.vgg16 import VGG16\n",
    "from tensorflow.keras.applications.vgg16 import preprocess_input\n",
    "from tensorflow.keras.preprocessing.image import ImageDataGenerator\n",
    "from tensorflow.keras.models import model_from_json\n",
    "import cv2"
   ]
  },
  {
   "cell_type": "code",
   "execution_count": 21,
   "id": "c0724896",
   "metadata": {
    "ExecuteTime": {
     "end_time": "2022-08-07T14:23:38.534833Z",
     "start_time": "2022-08-07T14:23:38.521868Z"
    }
   },
   "outputs": [],
   "source": [
    "cifar10=keras.datasets.cifar10"
   ]
  },
  {
   "cell_type": "code",
   "execution_count": 22,
   "id": "6f7c708d",
   "metadata": {
    "ExecuteTime": {
     "end_time": "2022-08-07T14:23:40.266059Z",
     "start_time": "2022-08-07T14:23:38.932422Z"
    }
   },
   "outputs": [],
   "source": [
    "(x_train,y_train),(x_test,y_test)=cifar10.load_data()"
   ]
  },
  {
   "cell_type": "code",
   "execution_count": 23,
   "id": "db4aa1df",
   "metadata": {
    "ExecuteTime": {
     "end_time": "2022-08-07T14:23:40.282017Z",
     "start_time": "2022-08-07T14:23:40.268055Z"
    },
    "scrolled": true
   },
   "outputs": [
    {
     "name": "stdout",
     "output_type": "stream",
     "text": [
      "(50000, 32, 32, 3)\n",
      "(50000, 1)\n"
     ]
    }
   ],
   "source": [
    "print(x_train.shape)\n",
    "print(y_train.shape)"
   ]
  },
  {
   "cell_type": "code",
   "execution_count": 24,
   "id": "3bc7b808",
   "metadata": {
    "ExecuteTime": {
     "end_time": "2022-08-07T14:23:42.158995Z",
     "start_time": "2022-08-07T14:23:40.285009Z"
    }
   },
   "outputs": [],
   "source": [
    "x_train=np.array([cv2.resize(i,(64,64)) for i in x_train])\n",
    "x_test=np.array([cv2.resize(i,(64,64)) for i in x_test])"
   ]
  },
  {
   "cell_type": "code",
   "execution_count": 25,
   "id": "37ed83b5",
   "metadata": {
    "ExecuteTime": {
     "end_time": "2022-08-07T14:23:42.315578Z",
     "start_time": "2022-08-07T14:23:42.162985Z"
    }
   },
   "outputs": [
    {
     "data": {
      "text/plain": [
       "<matplotlib.image.AxesImage at 0x191047f84f0>"
      ]
     },
     "execution_count": 25,
     "metadata": {},
     "output_type": "execute_result"
    },
    {
     "data": {
      "image/png": "[encoded data removed]",
      "text/plain": [
       "<Figure size 432x288 with 1 Axes>"
      ]
     },
     "metadata": {
      "needs_background": "light"
     },
     "output_type": "display_data"
    }
   ],
   "source": [
    "plt.imshow(x_train[0])"
   ]
  },
  {
   "cell_type": "code",
   "execution_count": null,
   "id": "1fac9ab0",
   "metadata": {},
   "outputs": [],
   "source": []
  },
  {
   "cell_type": "code",
   "execution_count": 26,
   "id": "bbb16965",
   "metadata": {
    "ExecuteTime": {
     "end_time": "2022-08-07T14:23:55.555136Z",
     "start_time": "2022-08-07T14:23:47.451769Z"
    }
   },
   "outputs": [],
   "source": [
    "x_train=preprocess_input(x_train)\n",
    "x_test=preprocess_input(x_test)\n",
    "y_train=keras.utils.to_categorical(y_train,num_classes=10)\n",
    "y_test=keras.utils.to_categorical(y_test,num_classes=10)"
   ]
  },
  {
   "cell_type": "code",
   "execution_count": 27,
   "id": "4742e1a4",
   "metadata": {
    "ExecuteTime": {
     "end_time": "2022-08-07T14:24:01.595177Z",
     "start_time": "2022-08-07T14:24:01.565258Z"
    }
   },
   "outputs": [
    {
     "data": {
      "text/plain": [
       "array([0., 0., 0., 1., 0., 0., 0., 0., 0., 0.], dtype=float32)"
      ]
     },
     "execution_count": 27,
     "metadata": {},
     "output_type": "execute_result"
    }
   ],
   "source": [
    "y_test[0]"
   ]
  },
  {
   "cell_type": "code",
   "execution_count": 28,
   "id": "31058c28",
   "metadata": {
    "ExecuteTime": {
     "end_time": "2022-08-07T14:24:05.668773Z",
     "start_time": "2022-08-07T14:24:04.855388Z"
    }
   },
   "outputs": [],
   "source": [
    "vgg=VGG16(input_shape=(64,64,3),weights='imagenet',include_top=False,classes=y_train.shape[1])"
   ]
  },
  {
   "cell_type": "code",
   "execution_count": 29,
   "id": "4060e9b9",
   "metadata": {
    "ExecuteTime": {
     "end_time": "2022-08-07T14:24:05.776787Z",
     "start_time": "2022-08-07T14:24:05.755842Z"
    }
   },
   "outputs": [
    {
     "data": {
      "text/plain": [
       "<KerasTensor: shape=(None, 64, 64, 3) dtype=float32 (created by layer 'input_2')>"
      ]
     },
     "execution_count": 29,
     "metadata": {},
     "output_type": "execute_result"
    }
   ],
   "source": [
    "vgg.input"
   ]
  },
  {
   "cell_type": "code",
   "execution_count": 30,
   "id": "16339118",
   "metadata": {
    "ExecuteTime": {
     "end_time": "2022-08-07T14:24:06.562722Z",
     "start_time": "2022-08-07T14:24:06.554744Z"
    }
   },
   "outputs": [],
   "source": [
    "for layer in vgg.layers:\n",
    "    layer.trainable=False"
   ]
  },
  {
   "cell_type": "code",
   "execution_count": 31,
   "id": "61e30fd5",
   "metadata": {
    "ExecuteTime": {
     "end_time": "2022-08-07T14:24:07.396050Z",
     "start_time": "2022-08-07T14:24:07.192595Z"
    }
   },
   "outputs": [
    {
     "name": "stdout",
     "output_type": "stream",
     "text": [
      "Model: \"model_1\"\n",
      "_________________________________________________________________\n",
      " Layer (type)                Output Shape              Param #   \n",
      "=================================================================\n",
      " input_2 (InputLayer)        [(None, 64, 64, 3)]       0         \n",
      "                                                                 \n",
      " block1_conv1 (Conv2D)       (None, 64, 64, 64)        1792      \n",
      "                                                                 \n",
      " block1_conv2 (Conv2D)       (None, 64, 64, 64)        36928     \n",
      "                                                                 \n",
      " block1_pool (MaxPooling2D)  (None, 32, 32, 64)        0         \n",
      "                                                                 \n",
      " block2_conv1 (Conv2D)       (None, 32, 32, 128)       73856     \n",
      "                                                                 \n",
      " block2_conv2 (Conv2D)       (None, 32, 32, 128)       147584    \n",
      "                                                                 \n",
      " block2_pool (MaxPooling2D)  (None, 16, 16, 128)       0         \n",
      "                                                                 \n",
      " block3_conv1 (Conv2D)       (None, 16, 16, 256)       295168    \n",
      "                                                                 \n",
      " block3_conv2 (Conv2D)       (None, 16, 16, 256)       590080    \n",
      "                                                                 \n",
      " block3_conv3 (Conv2D)       (None, 16, 16, 256)       590080    \n",
      "                                                                 \n",
      " block3_pool (MaxPooling2D)  (None, 8, 8, 256)         0         \n",
      "                                                                 \n",
      " block4_conv1 (Conv2D)       (None, 8, 8, 512)         1180160   \n",
      "                                                                 \n",
      " block4_conv2 (Conv2D)       (None, 8, 8, 512)         2359808   \n",
      "                                                                 \n",
      " block4_conv3 (Conv2D)       (None, 8, 8, 512)         2359808   \n",
      "                                                                 \n",
      " block4_pool (MaxPooling2D)  (None, 4, 4, 512)         0         \n",
      "                                                                 \n",
      " block5_conv1 (Conv2D)       (None, 4, 4, 512)         2359808   \n",
      "                                                                 \n",
      " block5_conv2 (Conv2D)       (None, 4, 4, 512)         2359808   \n",
      "                                                                 \n",
      " block5_conv3 (Conv2D)       (None, 4, 4, 512)         2359808   \n",
      "                                                                 \n",
      " block5_pool (MaxPooling2D)  (None, 2, 2, 512)         0         \n",
      "                                                                 \n",
      " flatten_1 (Flatten)         (None, 2048)              0         \n",
      "                                                                 \n",
      " batch_normalization_1 (Batc  (None, 2048)             8192      \n",
      " hNormalization)                                                 \n",
      "                                                                 \n",
      " dense_3 (Dense)             (None, 256)               524544    \n",
      "                                                                 \n",
      " dense_4 (Dense)             (None, 256)               65792     \n",
      "                                                                 \n",
      " dropout_1 (Dropout)         (None, 256)               0         \n",
      "                                                                 \n",
      " dense_5 (Dense)             (None, 10)                2570      \n",
      "                                                                 \n",
      "=================================================================\n",
      "Total params: 15,315,786\n",
      "Trainable params: 597,002\n",
      "Non-trainable params: 14,718,784\n",
      "_________________________________________________________________\n"
     ]
    }
   ],
   "source": [
    "# Add classification layers on top of it\n",
    "x=keras.layers.Flatten()(vgg.output)\n",
    "x=keras.layers.BatchNormalization()(x)\n",
    "# x=keras.layers.Dense(2048,activation='relu')(x)\n",
    "# x=keras.layers.BatchNormalization()(x)\n",
    "# x=keras.layers.Dense(1024,activation='relu')(x)\n",
    "# x=keras.layers.Dropout(0.5)(x)\n",
    "# x=keras.layers.Dense(512,activation='relu')(x)\n",
    "# x=keras.layers.Dropout(0.4)(x)\n",
    "x=keras.layers.Dense(256,activation='relu')(x)\n",
    "# x=keras.layers.Dropout(0.5)(x)\n",
    "x=keras.layers.Dense(256,activation='relu')(x)\n",
    "x=keras.layers.Dropout(0.6)(x)\n",
    "output=keras.layers.Dense(10,activation='softmax')(x)\n",
    "model_vgg=keras.models.Model(inputs=vgg.input,outputs=output)\n",
    "model_vgg.summary()"
   ]
  },
  {
   "cell_type": "code",
   "execution_count": 42,
   "id": "7db3fe2a",
   "metadata": {
    "ExecuteTime": {
     "end_time": "2022-08-07T14:34:21.815075Z",
     "start_time": "2022-08-07T14:34:21.767861Z"
    }
   },
   "outputs": [],
   "source": [
    "# model_vgg.compile(\n",
    "# optimizer='adam',\n",
    "# loss=keras.losses.SparseCategoricalCrossentropy(),\n",
    "# metrics=['accuracy'])\n",
    "model_vgg.compile(optimizer=keras.optimizers.Adam(),\n",
    "             loss=keras.losses.CategoricalCrossentropy(),\n",
    "             metrics=['accuracy']\n",
    "             )"
   ]
  },
  {
   "cell_type": "code",
   "execution_count": 43,
   "id": "9e8793cd",
   "metadata": {
    "ExecuteTime": {
     "end_time": "2022-08-07T14:34:22.112683Z",
     "start_time": "2022-08-07T14:34:22.105702Z"
    }
   },
   "outputs": [],
   "source": [
    "# x_test[0]"
   ]
  },
  {
   "cell_type": "code",
   "execution_count": 44,
   "id": "ded8f971",
   "metadata": {
    "ExecuteTime": {
     "end_time": "2022-08-07T14:34:22.347367Z",
     "start_time": "2022-08-07T14:34:22.331378Z"
    }
   },
   "outputs": [],
   "source": [
    "callbacks=[EarlyStopping(monitor='val_accuracy',patience=5)]"
   ]
  },
  {
   "cell_type": "code",
   "execution_count": 45,
   "id": "5dd05d41",
   "metadata": {
    "ExecuteTime": {
     "end_time": "2022-08-07T14:34:22.631017Z",
     "start_time": "2022-08-07T14:34:22.625031Z"
    }
   },
   "outputs": [],
   "source": [
    "# train_steps_per_epoch = X_train.shape[0] // BATCH_SIZE\n",
    "# val_steps_per_epoch = X_val.shape[0] // BATCH_SIZE"
   ]
  },
  {
   "cell_type": "code",
   "execution_count": 46,
   "id": "9f6d9d87",
   "metadata": {
    "ExecuteTime": {
     "end_time": "2022-08-07T16:13:22.046887Z",
     "start_time": "2022-08-07T14:34:23.129232Z"
    }
   },
   "outputs": [
    {
     "name": "stdout",
     "output_type": "stream",
     "text": [
      "Epoch 1/5\n",
      "1562/1562 [==============================] - 1199s 766ms/step - loss: 0.9369 - accuracy: 0.6865 - val_loss: 0.6908 - val_accuracy: 0.7631\n",
      "Epoch 2/5\n",
      "1562/1562 [==============================] - 1181s 757ms/step - loss: 0.7220 - accuracy: 0.7561 - val_loss: 0.6891 - val_accuracy: 0.7672\n",
      "Epoch 3/5\n",
      "1562/1562 [==============================] - 1189s 761ms/step - loss: 0.6291 - accuracy: 0.7861 - val_loss: 0.6681 - val_accuracy: 0.7788\n",
      "Epoch 4/5\n",
      "1562/1562 [==============================] - 1189s 761ms/step - loss: 0.5639 - accuracy: 0.8073 - val_loss: 0.6565 - val_accuracy: 0.7835\n",
      "Epoch 5/5\n",
      "1562/1562 [==============================] - 1174s 752ms/step - loss: 0.4987 - accuracy: 0.8285 - val_loss: 0.6864 - val_accuracy: 0.7779\n"
     ]
    }
   ],
   "source": [
    "history=model_vgg.fit(x_train,y_train,validation_data=(x_test,y_test),epochs=5,batch_size=32,steps_per_epoch=x_train.shape[0] // 32,validation_steps=x_test.shape[0]//32,callbacks=callbacks)"
   ]
  },
  {
   "cell_type": "code",
   "execution_count": null,
   "id": "fed96c1e",
   "metadata": {
    "ExecuteTime": {
     "end_time": "2022-08-07T13:34:07.463206Z",
     "start_time": "2022-08-07T13:34:07.463206Z"
    }
   },
   "outputs": [],
   "source": [
    "for j in list(history.history.keys()):\n",
    "    plt.plot(history.history[j])\n",
    "    plt.title(j + ' over epochs')\n",
    "    plt.ylabel(j)\n",
    "    plt.xlabel('Epochs')\n",
    "    plt.show()"
   ]
  },
  {
   "cell_type": "code",
   "execution_count": null,
   "id": "f808e69d",
   "metadata": {
    "ExecuteTime": {
     "end_time": "2022-08-07T12:49:03.179580Z",
     "start_time": "2022-08-07T12:49:03.179580Z"
    }
   },
   "outputs": [],
   "source": [
    "model_json = model.to_json()\n",
    "with open(\"model_cifar_trans.json\", \"w\") as json_file:\n",
    "    json_file.write(model_json)\n",
    "# serialize weights to HDF5\n",
    "model.save_weights(\"model_cifar_trans.h5\")\n",
    "print(\"Saved model to disk\")"
   ]
  },
  {
   "cell_type": "code",
   "execution_count": null,
   "id": "4b815acf",
   "metadata": {},
   "outputs": [],
   "source": []
  }
 ],
 "metadata": {
  "kernelspec": {
   "display_name": "Python 3 (ipykernel)",
   "language": "python",
   "name": "python3"
  },
  "language_info": {
   "codemirror_mode": {
    "name": "ipython",
    "version": 3
   },
   "file_extension": ".py",
   "mimetype": "text/x-python",
   "name": "python",
   "nbconvert_exporter": "python",
   "pygments_lexer": "ipython3",
   "version": "3.10.5"
  },
  "nbTranslate": {
   "displayLangs": [
    "*"
   ],
   "hotkey": "alt-t",
   "langInMainMenu": true,
   "sourceLang": "en",
   "targetLang": "fr",
   "useGoogleTranslate": true
  },
  "toc": {
   "base_numbering": 1,
   "nav_menu": {},
   "number_sections": true,
   "sideBar": true,
   "skip_h1_title": false,
   "title_cell": "Table of Contents",
   "title_sidebar": "Contents",
   "toc_cell": false,
   "toc_position": {},
   "toc_section_display": true,
   "toc_window_display": false
  }
 },
 "nbformat": 4,
 "nbformat_minor": 5
}
